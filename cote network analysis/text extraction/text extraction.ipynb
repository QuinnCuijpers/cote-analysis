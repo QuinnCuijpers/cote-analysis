{
 "cells": [
  {
   "cell_type": "code",
   "execution_count": 9,
   "metadata": {},
   "outputs": [],
   "source": [
    "import fitz # install using: pip install PyMuPDF\n"
   ]
  },
  {
   "cell_type": "code",
   "execution_count": 10,
   "metadata": {},
   "outputs": [],
   "source": [
    "\n",
    "for i in range(1, 12):\n",
    "    \n",
    "    if i >= 5 and i <= 7:\n",
    "        with fitz.open(f\"../pdfs/cote_{i}.pdf\") as doc:\n",
    "            text = \"\"\n",
    "            for page in doc:\n",
    "                text += page.get_text()\n",
    "\n",
    "        textArray = text.split('\\n')\n",
    "        with open(f'../text files/0{i+1} cote_{i}.txt', 'w') as f:\n",
    "            for line in textArray:\n",
    "                f.write(line)\n",
    "                f.write('\\n')\n",
    "    elif i > 7:\n",
    "        with fitz.open(f\"../pdfs/cote_{i}.pdf\") as doc:\n",
    "            text = \"\"\n",
    "            for page in doc:\n",
    "                text += page.get_text()\n",
    "\n",
    "        textArray = text.split('\\n')\n",
    "        with open(f'../text files/{i+2} cote_{i}.txt', 'w') as f:\n",
    "            for line in textArray:\n",
    "                f.write(line)\n",
    "                f.write('\\n')\n",
    "    \n",
    "    else:\n",
    "        with fitz.open(f\"../pdfs/cote_{i}.pdf\") as doc:\n",
    "            text = \"\"\n",
    "            for page in doc:\n",
    "                text += page.get_text()\n",
    "\n",
    "        textArray = text.split('\\n')\n",
    "        with open(f'../text files/0{i} cote_{i}.txt', 'w') as f:\n",
    "            for line in textArray:\n",
    "                f.write(line)\n",
    "                f.write('\\n')\n",
    "    "
   ]
  },
  {
   "cell_type": "code",
   "execution_count": 11,
   "metadata": {},
   "outputs": [],
   "source": [
    "       \n",
    "halfBookNumbers = [4, 7, 11]\n",
    "halfBookIndices = [5, 9, 14]\n",
    "for idx, num in enumerate(halfBookNumbers):\n",
    "    with fitz.open(f\"../pdfs/cote_{num}-5.pdf\") as doc:\n",
    "        text = \"\"\n",
    "        for page in doc:\n",
    "            text += page.get_text()\n",
    "    if halfBookIndices[idx] != 14:\n",
    "        textArray = text.split('\\n')\n",
    "        with open(f'../text files/0{halfBookIndices[idx]} cote_{num}-5.txt', 'w') as f:\n",
    "            for line in textArray:\n",
    "                f.write(line)\n",
    "                f.write('\\n')\n",
    "    else:\n",
    "        textArray = text.split('\\n')\n",
    "        with open(f'../text files/{halfBookIndices[idx]} cote_{num}-5.txt', 'w') as f:\n",
    "            for line in textArray:\n",
    "                f.write(line)\n",
    "                f.write('\\n')\n",
    "\n"
   ]
  },
  {
   "cell_type": "code",
   "execution_count": 12,
   "metadata": {},
   "outputs": [],
   "source": [
    "with fitz.open(f\"../pdfs/cote_11-75.pdf\") as doc:\n",
    "    text = \"\"\n",
    "    for page in doc:\n",
    "        text += page.get_text()\n",
    "\n",
    "textArray = text.split('\\n')\n",
    "with open(f'../text files/{15} cote_11-75.txt', 'w') as f:\n",
    "    for line in textArray:\n",
    "        f.write(line)\n",
    "        f.write('\\n')"
   ]
  }
 ],
 "metadata": {
  "kernelspec": {
   "display_name": "cote",
   "language": "python",
   "name": "python3"
  },
  "language_info": {
   "codemirror_mode": {
    "name": "ipython",
    "version": 3
   },
   "file_extension": ".py",
   "mimetype": "text/x-python",
   "name": "python",
   "nbconvert_exporter": "python",
   "pygments_lexer": "ipython3",
   "version": "3.11.5"
  },
  "orig_nbformat": 4
 },
 "nbformat": 4,
 "nbformat_minor": 2
}
