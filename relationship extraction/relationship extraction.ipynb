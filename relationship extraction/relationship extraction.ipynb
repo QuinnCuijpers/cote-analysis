{
 "cells": [
  {
   "cell_type": "markdown",
   "metadata": {},
   "source": [
    "## Imports"
   ]
  },
  {
   "cell_type": "code",
   "execution_count": 17,
   "metadata": {},
   "outputs": [],
   "source": [
    "import pandas as pd \n",
    "import numpy as np \n",
    "\n",
    "import spacy\n",
    "from spacy import displacy\n",
    "\n",
    "import networkx as nx \n",
    "import matplotlib.pyplot as plt\n",
    "from pyvis.network import Network\n",
    "import community as community_louvain\n"
   ]
  },
  {
   "cell_type": "code",
   "execution_count": null,
   "metadata": {},
   "outputs": [],
   "source": [
    "#in order to use spacy we have to download en_core_web_sm using the following commmand:\n",
    "# ~\\anaconda3\\envs\\cote\\python.exe python3 -m spacy download en_core_web_sm\n",
    "\n",
    "\n",
    "NER = spacy.load(\"en_core_web_lg\")"
   ]
  },
  {
   "cell_type": "markdown",
   "metadata": {},
   "source": [
    "## Load books\n"
   ]
  },
  {
   "cell_type": "code",
   "execution_count": 1,
   "metadata": {},
   "outputs": [
    {
     "data": {
      "text/plain": [
       "[<DirEntry '01 cote_1.txt'>,\n",
       " <DirEntry '02 cote_2.txt'>,\n",
       " <DirEntry '03 cote_3.txt'>,\n",
       " <DirEntry '04 cote_4.txt'>,\n",
       " <DirEntry '05 cote_4-5.txt'>,\n",
       " <DirEntry '06 cote_5.txt'>,\n",
       " <DirEntry '07 cote_6.txt'>,\n",
       " <DirEntry '08 cote_7.txt'>,\n",
       " <DirEntry '09 cote_7-5.txt'>,\n",
       " <DirEntry '10 cote_8.txt'>,\n",
       " <DirEntry '11 cote_9.txt'>,\n",
       " <DirEntry '12 cote_10.txt'>,\n",
       " <DirEntry '13 cote_11.txt'>,\n",
       " <DirEntry '14 cote_11-5.txt'>,\n",
       " <DirEntry '15 cote_11-75.txt'>]"
      ]
     },
     "execution_count": 1,
     "metadata": {},
     "output_type": "execute_result"
    }
   ],
   "source": [
    "import os\n",
    "\n",
    "books = [book for book in os.scandir('../text files') if '.txt' in book.name]\n",
    "books.sort(key=lambda x:x.name)\n",
    "books"
   ]
  },
  {
   "cell_type": "markdown",
   "metadata": {},
   "source": [
    "## using NER\n",
    "    "
   ]
  },
  {
   "cell_type": "code",
   "execution_count": null,
   "metadata": {},
   "outputs": [],
   "source": [
    "book = books[0]\n",
    "book_text = open(book, encoding='utf-8').read()\n",
    "book_NER = NER(book_text)"
   ]
  },
  {
   "cell_type": "code",
   "execution_count": null,
   "metadata": {},
   "outputs": [],
   "source": [
    "displacy.render(book_NER[0:2000], style='ent', jupyter=True)"
   ]
  },
  {
   "cell_type": "markdown",
   "metadata": {},
   "source": [
    "## creating characters per sentence dataframe\n"
   ]
  },
  {
   "cell_type": "code",
   "execution_count": null,
   "metadata": {},
   "outputs": [],
   "source": [
    "sentence_entity_df = []\n",
    "\n",
    "for sentence in book_NER.sents:\n",
    "    ent_list = [ent.text for ent in sentence.ents]\n",
    "    sentence_entity_df.append({\n",
    "        \"sentence\": sentence,\n",
    "        \"entities\":ent_list\n",
    "    })\n",
    "sentence_entity_df = pd.DataFrame(sentence_entity_df)\n",
    "sentence_entity_df"
   ]
  },
  {
   "cell_type": "markdown",
   "metadata": {},
   "source": [
    "Filtering function"
   ]
  },
  {
   "cell_type": "code",
   "execution_count": null,
   "metadata": {},
   "outputs": [],
   "source": [
    "# creating a filter to apply to our entities\n",
    "def filter_entity(ent_list, character_df):\n",
    "    characters = []\n",
    "    for ent in ent_list:\n",
    "        ent = str(ent)\n",
    "        # in japan these are common suffixes\n",
    "        ent = ent.replace('-san', '')\n",
    "        ent = ent.replace('-kun', '')\n",
    "        ent = ent.replace('-chan', '')\n",
    "        ent = ent.replace('-sensei', '')\n",
    "        if ent in list(character_df['character']) or ent in list(character_df['firstname']) or ent in list(character_df['lastname']) or ent in list(character_df['character reverse']):\n",
    "            idx =  character_df.index[character_df['character'] == ent].tolist()+ character_df.index[character_df['firstname'] == ent].tolist() + character_df.index[character_df['lastname'] == ent].tolist() + character_df.index[character_df['character reverse'] == ent].tolist()\n",
    "            if idx:\n",
    "                idx = idx[0]\n",
    "            characters.append(character_df['character'][idx])\n",
    "    return characters"
   ]
  },
  {
   "cell_type": "markdown",
   "metadata": {},
   "source": [
    "Filtered sentence entity df"
   ]
  },
  {
   "cell_type": "code",
   "execution_count": null,
   "metadata": {},
   "outputs": [],
   "source": [
    "character_df = pd.read_csv('../data scraping/characters.csv')\n",
    "sentence_entity_df[\"character_entities\"] = sentence_entity_df['entities'].apply(lambda x: filter_entity(x, character_df))\n",
    "\n",
    "#removing rows that dont have character entities\n",
    "sentence_entity_df_filtered = sentence_entity_df[sentence_entity_df['character_entities'].map(len) > 0]\n",
    "sentence_entity_df_filtered"
   ]
  },
  {
   "cell_type": "markdown",
   "metadata": {},
   "source": [
    "## extracting relationships"
   ]
  },
  {
   "cell_type": "code",
   "execution_count": null,
   "metadata": {},
   "outputs": [],
   "source": [
    "window_size = 10\n",
    "relations = []\n",
    "\n",
    "for i in range(sentence_entity_df_filtered.index[-1]):\n",
    "    end_i = min(i+window_size, sentence_entity_df_filtered.index[-1])\n",
    "    char_list = (sum((sentence_entity_df_filtered.loc[i:end_i].character_entities), []))\n",
    "    \n",
    "    # remove duplicate values in the char_list\n",
    "    char_uniques = [char_list[i] for i in range(len(char_list))\n",
    "                    if (i==0) or char_list[i] != char_list[i-1]]\n",
    "    \n",
    "    if len(char_uniques) > 1:\n",
    "        for idx, char in enumerate(char_uniques[:-1]):\n",
    "            target = char_uniques[idx + 1]\n",
    "            relations.append({\n",
    "                \"source\":char,\n",
    "                \"target\": target\n",
    "            })\n",
    "relations_df = pd.DataFrame(relations)\n",
    "relations_df  \n"
   ]
  },
  {
   "cell_type": "markdown",
   "metadata": {},
   "source": [
    "Relations dataframe"
   ]
  },
  {
   "cell_type": "code",
   "execution_count": null,
   "metadata": {},
   "outputs": [],
   "source": [
    "pd.set_option('display.max_rows', None)\n",
    "relations_df = pd.DataFrame(np.sort(relations_df.values, axis = 1), columns=relations_df.columns)\n",
    "relations_df"
   ]
  },
  {
   "cell_type": "markdown",
   "metadata": {},
   "source": [
    "Adding weights to the relations graph"
   ]
  },
  {
   "cell_type": "code",
   "execution_count": null,
   "metadata": {},
   "outputs": [],
   "source": [
    "# init a new value column to all 1's\n",
    "relations_df['value'] = 1\n",
    "\n",
    "# aggregate over all source, target pairs, making value become the count\n",
    "relations_df = relations_df.groupby(['source', 'target'], sort=False, as_index=False).sum()\n",
    "relations_df"
   ]
  },
  {
   "cell_type": "markdown",
   "metadata": {},
   "source": [
    "## Graph data analysis"
   ]
  },
  {
   "cell_type": "markdown",
   "metadata": {},
   "source": [
    "creating graph"
   ]
  },
  {
   "cell_type": "code",
   "execution_count": null,
   "metadata": {},
   "outputs": [],
   "source": [
    "G = nx.from_pandas_edgelist(relations_df,\n",
    "                            source = \"source\", \n",
    "                            target = \"target\", \n",
    "                            edge_attr= \"value\", \n",
    "                            create_using=nx.Graph)\n",
    "\n"
   ]
  },
  {
   "cell_type": "markdown",
   "metadata": {},
   "source": [
    "Networkx visualization"
   ]
  },
  {
   "cell_type": "code",
   "execution_count": null,
   "metadata": {},
   "outputs": [],
   "source": [
    "plt.figure(figsize=(10, 10))\n",
    "pos = nx.kamada_kawai_layout(G)\n",
    "nx.draw(G, with_labels=True, node_color='purple', edge_cmap = plt.cm.Blues,  pos = pos)"
   ]
  },
  {
   "cell_type": "markdown",
   "metadata": {},
   "source": [
    "Interactive graph visualization"
   ]
  },
  {
   "cell_type": "code",
   "execution_count": null,
   "metadata": {},
   "outputs": [],
   "source": [
    "from pyvis.network import Network\n",
    "network = Network(notebook=True)\n",
    "\n",
    "node_degree = dict(G.degree)\n",
    "\n",
    "network.from_nx(G)\n",
    "nx.set_node_attributes(G, node_degree, 'size')\n",
    "\n",
    "network.show(\"cote_0.html\")"
   ]
  },
  {
   "cell_type": "markdown",
   "metadata": {},
   "source": [
    "## Character importance\n"
   ]
  },
  {
   "cell_type": "code",
   "execution_count": null,
   "metadata": {},
   "outputs": [],
   "source": [
    "# degree centrality\n",
    "degree_centrality_dict = nx.degree_centrality(G)\n",
    "degree_centrality_dict"
   ]
  },
  {
   "cell_type": "code",
   "execution_count": null,
   "metadata": {},
   "outputs": [],
   "source": [
    "#sorting and plotting\n",
    "degree_df = pd.DataFrame.from_dict(degree_centrality_dict, orient='index', columns=['centrality'])\n",
    "degree_df.sort_values('centrality', ascending=False)[0:10].plot(kind='bar')"
   ]
  },
  {
   "cell_type": "code",
   "execution_count": null,
   "metadata": {},
   "outputs": [],
   "source": [
    "# betweenness centrality\n",
    "betweenness_dict = nx.betweenness_centrality(G)\n",
    "\n",
    "betweenness_df = pd.DataFrame.from_dict(betweenness_dict, orient='index', columns=['centrality'])\n",
    "betweenness_df.sort_values('centrality', ascending=False)[0:10].plot(kind='bar')"
   ]
  },
  {
   "cell_type": "code",
   "execution_count": null,
   "metadata": {},
   "outputs": [],
   "source": [
    "# closeness centrality\n",
    "closeness_dict = nx.betweenness_centrality(G)\n",
    "\n",
    "closeness_df = pd.DataFrame.from_dict(betweenness_dict, orient='index', columns=['centrality'])\n",
    "closeness_df.sort_values('centrality', ascending=False)[0:10].plot(kind='bar')"
   ]
  },
  {
   "cell_type": "code",
   "execution_count": null,
   "metadata": {},
   "outputs": [],
   "source": [
    "# adding centrality measures as node attributes\n",
    "nx.set_node_attributes(G, degree_centrality_dict, 'degree_centrality')\n",
    "nx.set_node_attributes(G, betweenness_dict, 'betweenness_centrality')\n",
    "nx.set_node_attributes(G, closeness_dict, 'closeness_centrality')"
   ]
  },
  {
   "cell_type": "markdown",
   "metadata": {},
   "source": [
    "## Clustering\n"
   ]
  },
  {
   "cell_type": "code",
   "execution_count": null,
   "metadata": {},
   "outputs": [],
   "source": [
    "import community as community_louvain"
   ]
  },
  {
   "cell_type": "code",
   "execution_count": null,
   "metadata": {},
   "outputs": [],
   "source": [
    "communities = community_louvain.best_partition(G)\n",
    "communities"
   ]
  },
  {
   "cell_type": "code",
   "execution_count": null,
   "metadata": {},
   "outputs": [],
   "source": [
    "nx.set_node_attributes(G, communities, 'group')"
   ]
  },
  {
   "cell_type": "code",
   "execution_count": null,
   "metadata": {},
   "outputs": [],
   "source": [
    "colored_net = Network(notebook=True)\n",
    "colored_net.from_nx(G)\n",
    "colored_net.show('cote_0.html')"
   ]
  },
  {
   "cell_type": "markdown",
   "metadata": {},
   "source": [
    "## Character importance over time\n"
   ]
  },
  {
   "cell_type": "code",
   "execution_count": 2,
   "metadata": {},
   "outputs": [],
   "source": [
    "# importing our own defined functions\n",
    "from lib.functions import *"
   ]
  },
  {
   "cell_type": "code",
   "execution_count": 20,
   "metadata": {},
   "outputs": [],
   "source": [
    "character_df = pd.read_csv('../data scraping/characters.csv')\n",
    "japanese_character_df = pd.read_csv('../data scraping/japanese characters.csv')\n",
    "graphs = []\n",
    "for book in books:\n",
    "\n",
    "    #create ner object\n",
    "    book_ner = ner(book)\n",
    "    \n",
    "    #get ne list per sentence\n",
    "    sentence_entity_df = create_entity_per_sentence_df(book_ner)\n",
    "    \n",
    "    #filtering\n",
    "    sentence_entity_df[\"character_entities\"] = sentence_entity_df['entities'].apply(lambda x: filter_character_entities(x, character_df) + filter_character_entities(x, japanese_character_df))\n",
    "    sentence_entity_df_filtered = sentence_entity_df[sentence_entity_df['character_entities'].map(len) > 0]\n",
    "    \n",
    "    #creating relationships \n",
    "    relations_df = create_relations(sentence_entity_df_filtered, window_size=5)\n",
    "    \n",
    "    #add graph to graph list\n",
    "    G = nx.from_pandas_edgelist(relations_df,\n",
    "                                source='source',\n",
    "                                target='target', \n",
    "                                edge_attr='value',\n",
    "                                create_using=nx.Graph())\n",
    "    \n",
    "    \n",
    "    network = Network()\n",
    "    \n",
    "    \n",
    "    node_degree = dict(G.degree)\n",
    "    nx.set_node_attributes(G, node_degree, 'size')\n",
    "    \n",
    "    communities = community_louvain.best_partition(G)\n",
    "    nx.set_node_attributes(G, communities, 'group')\n",
    "    \n",
    "    network.from_nx(G)\n",
    "    network.save_graph(f\"{book.name[:-4]}.html\")\n",
    "    graphs.append(G)\n",
    "            \n",
    "    \n",
    "    "
   ]
  },
  {
   "cell_type": "code",
   "execution_count": 25,
   "metadata": {},
   "outputs": [
    {
     "data": {
      "text/plain": [
       "<Axes: >"
      ]
     },
     "execution_count": 25,
     "metadata": {},
     "output_type": "execute_result"
    },
    {
     "data": {
      "image/png": "[encoded data removed]",
      "text/plain": [
       "<Figure size 640x480 with 1 Axes>"
      ]
     },
     "metadata": {},
     "output_type": "display_data"
    }
   ],
   "source": [
    "evol = [nx.degree_centrality(graph) for graph in graphs]\n",
    "evol_df = pd.DataFrame(evol)\n",
    "evol_df[[\"Kei Karuizawa\", \"Kiyotaka Ayanokouji\", \"Suzune Horikita\", \"Ken Sudou\", \"Yousuke Hirata\"]].plot()\n"
   ]
  }
 ],
 "metadata": {
  "kernelspec": {
   "display_name": "cote",
   "language": "python",
   "name": "python3"
  },
  "language_info": {
   "codemirror_mode": {
    "name": "ipython",
    "version": 3
   },
   "file_extension": ".py",
   "mimetype": "text/x-python",
   "name": "python",
   "nbconvert_exporter": "python",
   "pygments_lexer": "ipython3",
   "version": "3.11.5"
  }
 },
 "nbformat": 4,
 "nbformat_minor": 2
}
